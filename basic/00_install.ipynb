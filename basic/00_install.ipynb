{
 "cells": [
  {
   "cell_type": "markdown",
   "metadata": {},
   "source": [
    "# 编程入门00：Python软件安装\n",
    "“编程原来是这样”系列教程从今天开始更新，欢迎加入计算机编程学习之旅——“程序”（Program）是指控制计算机运行的指令序列，“编程”（Programming）就是针对特定的任务而编写特定的程序。在信息化社会中，编程已成为一项基本技能，不论你从事何种工作，只要用得着计算机，学会编程都能带来很大的帮助。编程需要使用某种编程语言，例如Python——这是一种被广泛使用的编程语言，在科学计算、数据处理和人工智能等许多领域都发挥着重要的作用，并且其语法简洁、自然而优雅，非常适合作为初学者的入门语言。Python的创造者是荷兰人 [Guido van Rossum](https://gvanrossum.github.io/)，Python的官方网站是 https://www.python.org/\n",
    "![python.jpg](http://upload-images.jianshu.io/upload_images/10829283-37957ab75a15b8ce.jpg?imageMogr2/auto-orient/strip%7CimageView2/2/w/1240)\n",
    "\n",
    "使用Python首先需要安装Python软件，最基本的Python软件是Python语言解释器——它能把Python语言翻译为底层的机器语言。Python软件可以在官方网站下载，现在推荐学习Python 3，请不要下载Python 2，两者的语法有不少差异。\n",
    "\n",
    "当前（2018年2月）最新正式稳定版本是3.6.4，官方下载页面提供了适用于不同操作系统的安装程序 https://www.python.org/downloads/release/python-364/\n",
    "- Python 3.6.4 Windows 64位 安装程序 https://www.python.org/ftp/python/3.6.4/python-3.6.4-amd64.exe\n",
    "- Python 3.6.4 Windows 32位 安装程序 https://www.python.org/ftp/python/3.6.4/python-3.6.4.exe\n",
    "\n",
    "注意：Windows XP系统无法使用最新版本，只能安装3.4.4 https://www.python.org/downloads/release/python-344/\n",
    "- Python 3.4.4 Windows 64位 安装程序 https://www.python.org/ftp/python/3.4.4/python-3.4.4.amd64.msi\n",
    "- Python 3.4.4 Windows 32位 安装程序 https://www.python.org/ftp/python/3.4.4/python-3.4.4.msi\n",
    "\n",
    "Python的下一个主要版本3.7正在开发中，已于2017年9月发布第一个预览版，预计于2018年6月发布正式版。\n",
    "\n",
    "Python还有其他发行版，主要是在官方版之上集成了许多第三方软件包省得一个个单独安装，例如Anaconda https://www.anaconda.com/download/，如果你安装其他发行版就不需再装官方版。\n",
    "\n",
    "下图显示的是在Windows 10系统中运行Python 3.6.4安装程序，请注意要选择添加环境变量（Add Python 3.6 to PATH）再开始安装（Install Now）——这个选项默认并没有勾选，如果你不添加环境变量，将来你在Windows命令提示符窗口输入python、pip等命令时会提示找不到这些命令，除非你切换路径到这些命令文件所在的目录（或是在命令前面加上路径）。\n",
    "![python_install.png](http://upload-images.jianshu.io/upload_images/10829283-42dab61e927f6da2.png?imageMogr2/auto-orient/strip%7CimageView2/2/w/1240)\n",
    "\n",
    "为了方便使用，推荐你选择自定义安装（Customize installation），在高级选项窗口中勾选为所有用户安装（Install for all users）、添加环境变量（Add Python to environment variables）以及预编译标准库（Precompile standard library），如有必要还可以自定义安装位置（Customize install location）再开始安装（Install）。\n",
    "![python_options.png](http://upload-images.jianshu.io/upload_images/10829283-9175e9a35f046d79.png?imageMogr2/auto-orient/strip%7CimageView2/2/w/1240)\n",
    "\n",
    "安装完成后，你就可以在开始菜单找到并点击Python 3.6程序组的Python 3.6菜单项（Win10系统在开始菜单输入python即可筛选出此菜单项）打开Python解释器窗口编写程序了，你可以看到Python解释器就是一个可执行文件（python.exe）。按照惯例，请输入下面的语句并按回车键执行：\n",
    "```\n",
    "print(\"Hello World!\")\n",
    "```\n",
    "\n",
    "这行语句的字面意思很容易理解：打印“Hello World!”，我们看到计算机立即准确地执行了这行语句：在屏幕上输出“Hello World!” \n",
    "![python_program.png](http://upload-images.jianshu.io/upload_images/10829283-0c2ac479d61ce3df.png?imageMogr2/auto-orient/strip%7CimageView2/2/w/1240)\n",
    "\n",
    "祝贺你，你完成了Hello World程序的编写，迈出了编程之路的第一步！\n",
    "\n",
    "——编程原来是这样……\n",
    "\n",
    "## 编程小提示：Hello World 程序\n",
    "\n",
    "“Hello World 程序”是指在计算机屏幕上输出“Hello World”这行字符串的计算机程序。这通常是每一种计算机语言中最基本最简单的程序，亦通常是初学者尝试编写的第一个程序。\n",
    "\n",
    "[The Hello World Collection](https://helloworldcollection.github.io/) 是一个专门收集 Hello World 程序的因特网页面，目前已有571种程序语言和76种人类语言。\n",
    "\n",
    "下一篇：[编程入门01：Python程序运行](01_run.ipynb)"
   ]
  }
 ],
 "metadata": {
  "kernelspec": {
   "display_name": "Python 3",
   "language": "python",
   "name": "python3"
  },
  "language_info": {
   "codemirror_mode": {
    "name": "ipython",
    "version": 3
   },
   "file_extension": ".py",
   "mimetype": "text/x-python",
   "name": "python",
   "nbconvert_exporter": "python",
   "pygments_lexer": "ipython3",
   "version": "3.6.7"
  }
 },
 "nbformat": 4,
 "nbformat_minor": 2
}
