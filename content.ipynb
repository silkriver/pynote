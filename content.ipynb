{
 "cells": [
  {
   "cell_type": "markdown",
   "metadata": {},
   "source": [
    "# 编程原来是这样——Python 学习笔记\n",
    "欢迎访问本系列教程的 [GitHub 仓库](https://github.com/silkriver/pynote) 和 [简书主页](https://www.jianshu.com/u/c7ebb0dc1567)\n",
    "\n",
    "## 编程入门\n",
    "- [编程入门00：Python软件安装](basic/00_install.ipynb)\n",
    "- [编程入门01：Python程序运行](basic/01_run.ipynb)\n",
    "- [编程入门02：Python基础语法](basic/02_syntax.ipynb)\n",
    "- [编程入门03：Python模块与库](basic/03_module.ipynb)\n",
    "- [编程入门04：Python第三方包](basic/04_package.ipynb)\n",
    "- [编程入门05：Python流程控制](basic/05_control.ipynb)\n",
    "- [编程入门06：Python海龟绘图](basic/06_turtle.ipynb)\n",
    "- [编程入门07：Python函数定义](basic/07_function.ipynb)\n",
    "- [编程入门08：Python列表类型](basic/08_list.ipynb)\n",
    "- [编程入门09：Python字典类型](basic/09_dict.ipynb)\n",
    "- [编程入门10：Python图形界面](basic/10_gui.ipynb)\n",
    "- [编程入门11：Python面向对象](basic/11_object.ipynb)\n",
    "- [编程入门12：Python异常处理](basic/12_except.ipynb)\n",
    "- [编程入门13：Python文本处理](basic/13_text.ipynb)\n",
    "- [编程入门14：Python模式匹配](basic/14_pattern.ipynb)\n",
    "- [编程入门15：Python迭代机制](basic/15_iter.ipynb)\n",
    "- [编程入门16：Python时间操作](basic/16_time.ipynb)\n",
    "- [编程入门17：Python环境管理](basic/17_env.ipynb)\n",
    "- [编程入门18：Python生产环境](basic/18_prod.ipynb)\n",
    "- [编程入门19：Python任务调度](basic/19_task.ipynb)\n",
    "- [Python 与 C 语言](c/py_c.ipynb)\n",
    "- [Python 与 C++ 语言](c/py_cpp.ipynb)\n",
    "\n",
    "## 数据处理\n",
    "- [数据处理00：Python专用发行版Anaconda](data/00_anaconda.ipynb)\n",
    "- [数据处理01：Python编程笔记本Jupyter](data/01_jupyter.ipynb)"
   ]
  }
 ],
 "metadata": {
  "kernelspec": {
   "display_name": "Python 3.7",
   "language": "python",
   "name": "python3"
  },
  "language_info": {
   "codemirror_mode": {
    "name": "ipython",
    "version": 3
   },
   "file_extension": ".py",
   "mimetype": "text/x-python",
   "name": "python",
   "nbconvert_exporter": "python",
   "pygments_lexer": "ipython3",
   "version": "3.7.3"
  }
 },
 "nbformat": 4,
 "nbformat_minor": 2
}
