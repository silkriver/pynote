{
 "cells": [
  {
   "cell_type": "markdown",
   "metadata": {},
   "source": [
    "# 数据处理02：Python数值计算包NumPy\n",
    "NumPy 是一个专用于数值计算的第三方包，它提供了实现高效存储与快速操作的多维数组对象，可以说是整个 Python 数据科学生态系统的核心，项目官网 https://www.numpy.org/\n",
    "\n",
    "NumPy 已包含于 Anaconda 中，导入模块时请按惯例使用 np 作为别名： "
   ]
  },
  {
   "cell_type": "code",
   "execution_count": 1,
   "metadata": {},
   "outputs": [
    {
     "data": {
      "text/plain": [
       "'1.15.4'"
      ]
     },
     "execution_count": 1,
     "metadata": {},
     "output_type": "execute_result"
    }
   ],
   "source": [
    "import numpy as np\n",
    "np.__version__  # 查看版本号"
   ]
  },
  {
   "cell_type": "markdown",
   "metadata": {},
   "source": [
    "NumPy 多维数组类名为 ndarray，其中的元素必须类型一致。创建数组的基本方式是调用 array 函数并以一个列表作为参数——如果传入的列表以若干相同长度列表为组成元素，则会创建一个二维数组（嵌套更多层将生成更高维度的数组）："
   ]
  },
  {
   "cell_type": "code",
   "execution_count": 2,
   "metadata": {},
   "outputs": [
    {
     "data": {
      "text/plain": [
       "array([1, 2, 3, 4, 5])"
      ]
     },
     "execution_count": 2,
     "metadata": {},
     "output_type": "execute_result"
    }
   ],
   "source": [
    "np.array([1, 2, 3, 4, 5])"
   ]
  },
  {
   "cell_type": "code",
   "execution_count": 3,
   "metadata": {},
   "outputs": [
    {
     "data": {
      "text/plain": [
       "array([[4, 9, 2],\n",
       "       [3, 5, 7],\n",
       "       [8, 1, 6]])"
      ]
     },
     "execution_count": 3,
     "metadata": {},
     "output_type": "execute_result"
    }
   ],
   "source": [
    "np.array([[4, 9, 2], [3, 5, 7], [8, 1, 6]])"
   ]
  },
  {
   "cell_type": "markdown",
   "metadata": {},
   "source": [
    "NumPy 多维数组属于可变的序列对象，支持标准的索引操作；对于多维数组可以用索引取到子数组，并支持用逗号分隔的多组索引；甚至还可以用数组作为“花式索引”："
   ]
  },
  {
   "cell_type": "code",
   "execution_count": 4,
   "metadata": {},
   "outputs": [
    {
     "data": {
      "text/plain": [
       "1"
      ]
     },
     "execution_count": 4,
     "metadata": {},
     "output_type": "execute_result"
    }
   ],
   "source": [
    "a1, a2 = Out[2], Out[3]  # IPython 的一个小技巧\n",
    "a1[0]"
   ]
  },
  {
   "cell_type": "code",
   "execution_count": 5,
   "metadata": {},
   "outputs": [
    {
     "data": {
      "text/plain": [
       "array([3, 5, 7])"
      ]
     },
     "execution_count": 5,
     "metadata": {},
     "output_type": "execute_result"
    }
   ],
   "source": [
    "a2[1]"
   ]
  },
  {
   "cell_type": "code",
   "execution_count": 6,
   "metadata": {},
   "outputs": [
    {
     "data": {
      "text/plain": [
       "2"
      ]
     },
     "execution_count": 6,
     "metadata": {},
     "output_type": "execute_result"
    }
   ],
   "source": [
    "a2[0][-1]"
   ]
  },
  {
   "cell_type": "code",
   "execution_count": 7,
   "metadata": {},
   "outputs": [
    {
     "data": {
      "text/plain": [
       "2"
      ]
     },
     "execution_count": 7,
     "metadata": {},
     "output_type": "execute_result"
    }
   ],
   "source": [
    "a2[0, -1]"
   ]
  },
  {
   "cell_type": "code",
   "execution_count": 8,
   "metadata": {},
   "outputs": [
    {
     "data": {
      "text/plain": [
       "array([[3, 5],\n",
       "       [8, 1]])"
      ]
     },
     "execution_count": 8,
     "metadata": {},
     "output_type": "execute_result"
    }
   ],
   "source": [
    "a2[1:, :2]"
   ]
  },
  {
   "cell_type": "code",
   "execution_count": 9,
   "metadata": {},
   "outputs": [
    {
     "data": {
      "text/plain": [
       "array([1, 3, 5])"
      ]
     },
     "execution_count": 9,
     "metadata": {},
     "output_type": "execute_result"
    }
   ],
   "source": [
    "a1[np.array([0, 2, 4])]  # 用数组进行索引"
   ]
  },
  {
   "cell_type": "markdown",
   "metadata": {},
   "source": [
    "NumPy 多维数组包含一些数据属性，例如维度 ndim，形状 shape（每个维度的项数），大小 size（总项数）以及数据类型 dtype——由于元素类型必须一致，赋值时如果遇到不同类型将会自动转换（这有可能丢失信息）："
   ]
  },
  {
   "cell_type": "code",
   "execution_count": 10,
   "metadata": {},
   "outputs": [
    {
     "name": "stdout",
     "output_type": "stream",
     "text": [
      "a1维度: 1\n",
      "a1形状: (5,)\n",
      "a1大小: 5\n",
      "a1数据类型: int64\n"
     ]
    }
   ],
   "source": [
    "print(\"a1维度:\", a1.ndim)\n",
    "print(\"a1形状:\", a1.shape)\n",
    "print(\"a1大小:\", a1.size)\n",
    "print(\"a1数据类型:\", a1.dtype)"
   ]
  },
  {
   "cell_type": "code",
   "execution_count": 11,
   "metadata": {},
   "outputs": [
    {
     "name": "stdout",
     "output_type": "stream",
     "text": [
      "a2维度: 2\n",
      "a2形状: (3, 3)\n",
      "a2大小: 9\n",
      "a2数据类型: int64\n"
     ]
    }
   ],
   "source": [
    "print(\"a2维度:\", a2.ndim)\n",
    "print(\"a2形状:\", a2.shape)\n",
    "print(\"a2大小:\", a2.size)\n",
    "print(\"a2数据类型:\", a2.dtype)"
   ]
  },
  {
   "cell_type": "code",
   "execution_count": 12,
   "metadata": {},
   "outputs": [
    {
     "data": {
      "text/plain": [
       "array([1, 2, 3, 4, 3])"
      ]
     },
     "execution_count": 12,
     "metadata": {},
     "output_type": "execute_result"
    }
   ],
   "source": [
    "a1[-1] = 3.14  # 浮点数将自动转换为整数\n",
    "a1"
   ]
  },
  {
   "cell_type": "markdown",
   "metadata": {},
   "source": [
    "NumPy 多维数组也包含许多方法属性用来执行各种操作，例如转换类型 astype() 、改变形状 reshape()，求和 sum()，累积求和 cumsum()，均值 mean() 等等："
   ]
  },
  {
   "cell_type": "code",
   "execution_count": 13,
   "metadata": {},
   "outputs": [
    {
     "data": {
      "text/plain": [
       "array([1.  , 2.  , 3.  , 4.  , 3.14])"
      ]
     },
     "execution_count": 13,
     "metadata": {},
     "output_type": "execute_result"
    }
   ],
   "source": [
    "a1 = a1.astype(float)  # 转换数据类型为浮点数\n",
    "a1[-1] = 3.14\n",
    "a1"
   ]
  },
  {
   "cell_type": "code",
   "execution_count": 14,
   "metadata": {},
   "outputs": [
    {
     "data": {
      "text/plain": [
       "array([[1.  ],\n",
       "       [2.  ],\n",
       "       [3.  ],\n",
       "       [4.  ],\n",
       "       [3.14]])"
      ]
     },
     "execution_count": 14,
     "metadata": {},
     "output_type": "execute_result"
    }
   ],
   "source": [
    "a1.reshape(5, 1)  # 改变形状为5行1列"
   ]
  },
  {
   "cell_type": "code",
   "execution_count": 15,
   "metadata": {},
   "outputs": [
    {
     "data": {
      "text/plain": [
       "13.14"
      ]
     },
     "execution_count": 15,
     "metadata": {},
     "output_type": "execute_result"
    }
   ],
   "source": [
    "a1.sum()  # 元素求和"
   ]
  },
  {
   "cell_type": "code",
   "execution_count": 16,
   "metadata": {},
   "outputs": [
    {
     "data": {
      "text/plain": [
       "array([ 1.  ,  3.  ,  6.  , 10.  , 13.14])"
      ]
     },
     "execution_count": 16,
     "metadata": {},
     "output_type": "execute_result"
    }
   ],
   "source": [
    "a1.cumsum()  # 元素累积求和"
   ]
  },
  {
   "cell_type": "code",
   "execution_count": 17,
   "metadata": {},
   "outputs": [
    {
     "data": {
      "text/plain": [
       "2.628"
      ]
     },
     "execution_count": 17,
     "metadata": {},
     "output_type": "execute_result"
    }
   ],
   "source": [
    "a1.mean()  # 元素均值"
   ]
  },
  {
   "cell_type": "code",
   "execution_count": 18,
   "metadata": {},
   "outputs": [
    {
     "data": {
      "text/plain": [
       "array([[ 4,  9,  2],\n",
       "       [ 7, 14,  9],\n",
       "       [15, 15, 15]])"
      ]
     },
     "execution_count": 18,
     "metadata": {},
     "output_type": "execute_result"
    }
   ],
   "source": [
    "a2.cumsum(0)  # 按第0维（行）累积求和"
   ]
  },
  {
   "cell_type": "code",
   "execution_count": 19,
   "metadata": {},
   "outputs": [
    {
     "data": {
      "text/plain": [
       "array([[ 4, 13, 15],\n",
       "       [ 3,  8, 15],\n",
       "       [ 8,  9, 15]])"
      ]
     },
     "execution_count": 19,
     "metadata": {},
     "output_type": "execute_result"
    }
   ],
   "source": [
    "a2.cumsum(1)  # 按第1维（列）累积求和"
   ]
  },
  {
   "cell_type": "code",
   "execution_count": 20,
   "metadata": {},
   "outputs": [
    {
     "data": {
      "text/plain": [
       "array([5., 5., 5.])"
      ]
     },
     "execution_count": 20,
     "metadata": {},
     "output_type": "execute_result"
    }
   ],
   "source": [
    "a2.mean(0)  # 按第0维（行）求均值"
   ]
  },
  {
   "cell_type": "markdown",
   "metadata": {},
   "source": [
    "NumPy 中除了 array 等普通函数，还有许多特殊的“通用函数”（ufunc），专门用于对数组中的每个值执行同样运算即所谓“向量化”（Vectorize），这种操作非常高效。基本算术类通用函数也可直接写算术运算符，会在底层自动变为对应的通用函数："
   ]
  },
  {
   "cell_type": "code",
   "execution_count": 21,
   "metadata": {},
   "outputs": [
    {
     "data": {
      "text/plain": [
       "array([[ 8, 18,  4],\n",
       "       [ 6, 10, 14],\n",
       "       [16,  2, 12]])"
      ]
     },
     "execution_count": 21,
     "metadata": {},
     "output_type": "execute_result"
    }
   ],
   "source": [
    "np.add(a2, a2)  # 使用加法通用函数"
   ]
  },
  {
   "cell_type": "code",
   "execution_count": 22,
   "metadata": {},
   "outputs": [
    {
     "data": {
      "text/plain": [
       "array([[ 8, 18,  4],\n",
       "       [ 6, 10, 14],\n",
       "       [16,  2, 12]])"
      ]
     },
     "execution_count": 22,
     "metadata": {},
     "output_type": "execute_result"
    }
   ],
   "source": [
    "a2 + a2  # 使用加法运算符"
   ]
  },
  {
   "cell_type": "code",
   "execution_count": 23,
   "metadata": {},
   "outputs": [
    {
     "data": {
      "text/plain": [
       "array([2.  , 4.  , 6.  , 8.  , 6.28])"
      ]
     },
     "execution_count": 23,
     "metadata": {},
     "output_type": "execute_result"
    }
   ],
   "source": [
    "a1 * 2  # 乘法"
   ]
  },
  {
   "cell_type": "code",
   "execution_count": 24,
   "metadata": {},
   "outputs": [
    {
     "data": {
      "text/plain": [
       "array([ 3.        ,  9.        , 27.        , 81.        , 31.48913565])"
      ]
     },
     "execution_count": 24,
     "metadata": {},
     "output_type": "execute_result"
    }
   ],
   "source": [
    "np.power(3, a1)  # 乘方"
   ]
  },
  {
   "cell_type": "code",
   "execution_count": 25,
   "metadata": {},
   "outputs": [
    {
     "data": {
      "text/plain": [
       "array([ 0.84147098,  0.90929743,  0.14112001, -0.7568025 ,  0.00159265])"
      ]
     },
     "execution_count": 25,
     "metadata": {},
     "output_type": "execute_result"
    }
   ],
   "source": [
    "np.sin(a1)  # 正弦"
   ]
  },
  {
   "cell_type": "markdown",
   "metadata": {},
   "source": [
    "以上代码中数组乘以单个数值即其所有元素都乘以该数值，这种机制称为“广播”（Broadcast）——当二元运算发现形状不一致时就会尝试进行广播：首先在较小形状的左边补上项数为 1 的维度，然后扩展各个项数为 1 的维度来匹配形状，如果无法匹配则将引发异常："
   ]
  },
  {
   "cell_type": "code",
   "execution_count": 26,
   "metadata": {},
   "outputs": [
    {
     "data": {
      "text/plain": [
       "array([[0],\n",
       "       [1],\n",
       "       [2]])"
      ]
     },
     "execution_count": 26,
     "metadata": {},
     "output_type": "execute_result"
    }
   ],
   "source": [
    "np.arange(3)[:, np.newaxis]  # 生成序列数组并用索引方式改变形状"
   ]
  },
  {
   "cell_type": "code",
   "execution_count": 27,
   "metadata": {},
   "outputs": [
    {
     "data": {
      "text/plain": [
       "array([[1.  , 2.  , 3.  , 4.  , 3.14],\n",
       "       [2.  , 3.  , 4.  , 5.  , 4.14],\n",
       "       [3.  , 4.  , 5.  , 6.  , 5.14]])"
      ]
     },
     "execution_count": 27,
     "metadata": {},
     "output_type": "execute_result"
    }
   ],
   "source": [
    "a1 + Out[26]  # 形状为(5,)和(3,1)的两数组相加得到数组形状为(3,5)"
   ]
  },
  {
   "cell_type": "code",
   "execution_count": 28,
   "metadata": {},
   "outputs": [
    {
     "name": "stdout",
     "output_type": "stream",
     "text": [
      "ValueError('operands could not be broadcast together with shapes (5,) (3,) ')\n"
     ]
    }
   ],
   "source": [
    "try:\n",
    "    a1 + np.arange(3)  # 形状为(5,)和(3,)的两个数组相加将引发异常\n",
    "except Exception as e:\n",
    "    print(repr(e))"
   ]
  },
  {
   "cell_type": "markdown",
   "metadata": {},
   "source": [
    "下面是之前曼德布罗分形图绘制程序的改进版，虽然还是同样的算法，但使用 NumPy 并配合辅助模块 Numba 将耗时的例程“即时编译”（JIT）为原生机器码，运行速度有成数量级的提升。Numba 官网 https://numba.pydata.org/"
   ]
  },
  {
   "cell_type": "code",
   "execution_count": 29,
   "metadata": {},
   "outputs": [
    {
     "name": "stdout",
     "output_type": "stream",
     "text": [
      "运行耗时：0.27733463999999985秒。\n"
     ]
    },
    {
     "data": {
      "image/png": "[encoded data removed]",
      "text/plain": [
       "<Figure size 720x720 with 1 Axes>"
      ]
     },
     "metadata": {
      "needs_background": "light"
     },
     "output_type": "display_data"
    }
   ],
   "source": [
    "\"\"\"使用NumPy绘制曼德布罗分形图\n",
    "\"\"\"\n",
    "import time\n",
    "import numpy as np\n",
    "from matplotlib import pyplot as plt\n",
    "from matplotlib import colors\n",
    "from numba import jit, guvectorize, complex64, int32\n",
    "%matplotlib inline\n",
    "\n",
    "\n",
    "@jit(int32(complex64, int32))\n",
    "def mandelbrot(c, maxiter):\n",
    "    nreal = 0\n",
    "    real = 0\n",
    "    imag = 0\n",
    "    for n in range(maxiter):\n",
    "        nreal = real*real - imag*imag + c.real\n",
    "        imag = 2 * real*imag + c.imag\n",
    "        real = nreal\n",
    "        if real * real + imag * imag > 4.0:\n",
    "            return n\n",
    "    return 0\n",
    "\n",
    "\n",
    "@guvectorize([(complex64[:], int32[:], int32[:])], \"(n),()->(n)\", target=\"parallel\")\n",
    "def mandelbrot_numpy(c, maxit, output):\n",
    "    maxiter = maxit[0]\n",
    "    for i in range(c.shape[0]):\n",
    "        output[i] = mandelbrot(c[i], maxiter)\n",
    "\n",
    "\n",
    "def mandelbrot_set(xmin, xmax, ymin, ymax, width, height, maxiter):\n",
    "    r1 = np.linspace(xmin, xmax, width, dtype=np.float32)\n",
    "    r2 = np.linspace(ymin, ymax, height, dtype=np.float32)\n",
    "    c = r1 + r2[:, None]*1j\n",
    "    n3 = mandelbrot_numpy(c, maxiter)\n",
    "    return (r1, r2, n3.T)\n",
    "\n",
    "\n",
    "def mandelbrot_image(xmin, xmax, ymin, ymax, width=10, height=10, maxiter=256, cmap=\"jet\", gamma=0.3):\n",
    "    dpi = 72\n",
    "    img_width = dpi * width\n",
    "    img_height = dpi * height\n",
    "    x, y, z = mandelbrot_set(xmin, xmax, ymin, ymax,\n",
    "                             img_width, img_height, maxiter)\n",
    "    plt.figure(figsize=(width, height), dpi=dpi)\n",
    "    ticks = np.arange(0, img_width, 3*dpi)\n",
    "    x_ticks = xmin + (xmax-xmin)*ticks/img_width\n",
    "    plt.xticks(ticks, x_ticks)\n",
    "    y_ticks = ymin + (ymax-ymin)*ticks/img_width\n",
    "    plt.yticks(ticks, y_ticks)\n",
    "    plt.axis(\"off\")\n",
    "    norm = colors.PowerNorm(gamma)\n",
    "    plt.imshow(z.T, cmap=cmap, norm=norm, origin=\"lower\")\n",
    "\n",
    "\n",
    "if __name__ == \"__main__\":\n",
    "    t1 = time.process_time()\n",
    "    mandelbrot_image(-2, 0.5, -1.25, 1.25, cmap=\"hot\")\n",
    "    print(f\"运行耗时：{time.process_time() - t1}秒。\")"
   ]
  },
  {
   "cell_type": "markdown",
   "metadata": {},
   "source": [
    "要了解 NumPy 的更多细节，请查看官方文档 https://docs.scipy.org/doc/\n",
    "\n",
    "——编程原来是这样……"
   ]
  }
 ],
 "metadata": {
  "kernelspec": {
   "display_name": "Python 3.7",
   "language": "python",
   "name": "python3.7"
  },
  "language_info": {
   "codemirror_mode": {
    "name": "ipython",
    "version": 3
   },
   "file_extension": ".py",
   "mimetype": "text/x-python",
   "name": "python",
   "nbconvert_exporter": "python",
   "pygments_lexer": "ipython3",
   "version": "3.7.3"
  }
 },
 "nbformat": 4,
 "nbformat_minor": 2
}
